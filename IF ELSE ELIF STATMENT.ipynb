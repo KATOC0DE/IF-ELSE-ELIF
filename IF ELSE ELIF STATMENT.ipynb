{
 "cells": [
  {
   "cell_type": "code",
   "execution_count": null,
   "metadata": {
    "colab": {
     "base_uri": "https://localhost:8080/"
    },
    "id": "KkUp4pk2og28",
    "outputId": "9de22d42-da45-461d-e6bf-17e5b3423faf"
   },
   "outputs": [
    {
     "name": "stdout",
     "output_type": "stream",
     "text": [
      "😕 Stay home\n"
     ]
    }
   ],
   "source": [
    "# So, if statement is used to check a condition of boolen\n",
    "# let's see an example\n",
    "\n",
    "it_rain = True # if True take an umbrella\n",
    "it_rain = False # stay home\n",
    "\n",
    "if it_rain:\n",
    "  print(\"🌧️\",\"Take an umbrella\")\n",
    "else:\n",
    "  print(\"😕 Stay home\")"
   ]
  },
  {
   "cell_type": "code",
   "execution_count": null,
   "metadata": {
    "colab": {
     "base_uri": "https://localhost:8080/"
    },
    "id": "Yrs2_tU_GuXl",
    "outputId": "893ba861-dfe2-4ba2-839e-b7c66cf0bb39"
   },
   "outputs": [
    {
     "name": "stdout",
     "output_type": "stream",
     "text": [
      "🌧️ Take an umbrella\n"
     ]
    }
   ],
   "source": [
    "it_rain = False # if True take an umbrella\n",
    "it_rain = True # stay home\n",
    "\n",
    "if it_rain:\n",
    "  print(\"🌧️\",\"Take an umbrella\")\n",
    "else:\n",
    "  print(\"😕 Stay home\")"
   ]
  },
  {
   "cell_type": "code",
   "execution_count": null,
   "metadata": {
    "colab": {
     "base_uri": "https://localhost:8080/"
    },
    "id": "ggjWmtWvDUii",
    "outputId": "c1bc2547-e8cf-4e11-85e6-210bf91fb477"
   },
   "outputs": [
    {
     "name": "stdout",
     "output_type": "stream",
     "text": [
      "What ever The weather is... 😕 i just wanna Stay 🏡\n"
     ]
    }
   ],
   "source": [
    "# how about cold day\n",
    "# add another elif statement\n",
    "\n",
    "it_rain = False\n",
    "it_cold = False\n",
    "\n",
    "if it_rain:\n",
    "  print(\"🌧️\"+\" It's rainny\",\"Take an ☔\")\n",
    "elif it_cold:\n",
    "  print(\"🌨️\"+\" It's snow outside!\",\"Take a warm 🧥 with you\")\n",
    "else:\n",
    "  print(\"What ever The weather is...\",\"😕 i just wanna Stay 🏡\")"
   ]
  },
  {
   "cell_type": "code",
   "execution_count": null,
   "metadata": {
    "colab": {
     "base_uri": "https://localhost:8080/"
    },
    "id": "W7QklGjSrFki",
    "outputId": "a859574e-6542-4994-e9ec-578aa68abc91"
   },
   "outputs": [
    {
     "name": "stdout",
     "output_type": "stream",
     "text": [
      "🌧️ It's rainny Take an ☔\n"
     ]
    }
   ],
   "source": [
    "it_rain = True\n",
    "it_cold = False\n",
    "\n",
    "if it_rain:\n",
    "  print(\"🌧️\"+\" It's rainny\",\"Take an ☔\")\n",
    "elif it_cold:\n",
    "  print(\"🌨️\"+\" It's snow outside!\",\"Take a warm 🧥 with you\")\n",
    "else:\n",
    "  print(\"What ever The weather is...\",\"😕 i just wanna Stay 🏡\")"
   ]
  },
  {
   "cell_type": "code",
   "execution_count": null,
   "metadata": {
    "colab": {
     "base_uri": "https://localhost:8080/"
    },
    "id": "RAa3wZcJrIeN",
    "outputId": "6eeee3b5-375f-4750-99ca-238c8fd2de9f"
   },
   "outputs": [
    {
     "name": "stdout",
     "output_type": "stream",
     "text": [
      "🌨️ It's snow outside! Take a warm 🧥 with you\n"
     ]
    }
   ],
   "source": [
    "it_rain = False\n",
    "it_cold = True\n",
    "\n",
    "if it_rain:\n",
    "  print(\"🌧️\"+\" It's rainny\",\"Take an ☔\")\n",
    "elif it_cold:\n",
    "  print(\"🌨️\"+\" It's snow outside!\",\"Take a warm 🧥 with you\")\n",
    "else:\n",
    "  print(\"What ever The weather is...\",\"😕 i just wanna Stay 🏡\")"
   ]
  }
 ],
 "metadata": {
  "colab": {
   "provenance": []
  },
  "kernelspec": {
   "display_name": "Python 3 (ipykernel)",
   "language": "python",
   "name": "python3"
  },
  "language_info": {
   "codemirror_mode": {
    "name": "ipython",
    "version": 3
   },
   "file_extension": ".py",
   "mimetype": "text/x-python",
   "name": "python",
   "nbconvert_exporter": "python",
   "pygments_lexer": "ipython3",
   "version": "3.11.4"
  }
 },
 "nbformat": 4,
 "nbformat_minor": 1
}
